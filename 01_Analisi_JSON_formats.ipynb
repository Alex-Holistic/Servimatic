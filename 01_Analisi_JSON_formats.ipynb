{
 "cells": [
  {
   "cell_type": "markdown",
   "id": "519e3994",
   "metadata": {},
   "source": [
    "# Comparador de JSONs\n",
    "Aquest notebook té com a objectiu fer un anàlisi profund dels diferents formats de JSON que les diferents màquines presenten. \n",
    "El notebook conté una classe que gestiona els JSONs a partir dels seus csv's originals, i els emmagatzema a un diccionari per a poder iterar i estudiar-lo fàcilment. \n"
   ]
  },
  {
   "cell_type": "code",
   "execution_count": 1,
   "id": "6a1ffe42",
   "metadata": {},
   "outputs": [],
   "source": [
    "import os\n",
    "import pandas as pd\n",
    "import json"
   ]
  },
  {
   "cell_type": "code",
   "execution_count": null,
   "id": "1ad87fbc",
   "metadata": {},
   "outputs": [],
   "source": [
    "class GestorJSONs:\n",
    "    def __init__(self, carpeta_csv, columna_json):\n",
    "        # Carpeta on es troben els fitxers CSV\n",
    "        self.carpeta_csv = carpeta_csv\n",
    "        # Nom de la columna que conté el JSON\n",
    "        self.columna_json = columna_json\n",
    "        # Diccionari per guardar els JSONs extrets\n",
    "        self.jsons_per_fitxer = {}\n",
    "\n",
    "    def carregar_jsons(self):\n",
    "        # Iterem per tots els fitxers CSV de la carpeta\n",
    "        for fitxer in os.listdir(self.carpeta_csv):\n",
    "            if fitxer.endswith(\".csv\"):\n",
    "                ruta_fitxer = os.path.join(self.carpeta_csv, fitxer)\n",
    "                try:\n",
    "                    # Llegim el CSV\n",
    "                    df = pd.read_csv(ruta_fitxer, sep=\";\", encoding=\"utf-8\")\n",
    "                    # Extreiem el primer JSON de la columna indicada\n",
    "                    if self.columna_json in df.columns and not df[self.columna_json].empty:\n",
    "                        json_text = df[self.columna_json].iloc[0]\n",
    "                        json_obj = json.loads(json_text)\n",
    "                        # Guardem el JSON en el diccionari\n",
    "                        self.jsons_per_fitxer[fitxer] = json_obj\n",
    "                except Exception as e:\n",
    "                    print(f\"Error amb el fitxer {fitxer}: {e}\")\n",
    "\n",
    "    def mostrar_claus(self):\n",
    "        # Mostrem les claus principals de cada JSON\n",
    "        for fitxer, json_obj in self.jsons_per_fitxer.items():\n",
    "            print(f\"\\nFitxer: {fitxer}\")\n",
    "            print(f\"Claus principals: {list(json_obj.keys())}\")\n",
    "\n",
    "# Exemple d'ús\n",
    "gestor = GestorJSONs(carpeta_csv=\"ruta/a/la/carpeta\", columna_json=\"Missatge\")\n",
    "gestor.carregar_jsons()\n",
    "gestor.mostrar_claus()"
   ]
  },
  {
   "cell_type": "code",
   "execution_count": 3,
   "id": "741c033f",
   "metadata": {},
   "outputs": [],
   "source": [
    "# open total.csv and split it into 2 csv files based on the 'Maquina' column\n",
    "columns= [\n",
    "    \"ID\", \"MsgID\", \"FechaMensaje\", \"ReqID\", \"SgID\", \"Maquina\", \"SGVer\",\n",
    "    \"ConexionTipoID\", \"MensajeTipoID\", \"Mensaje\", \"FechaModificacion\", \"UsuarioModificacion\"\n",
    "]\n",
    "df = pd.read_csv(\"data/total.csv\", sep=\";\", names =columns, header= None, encoding=\"utf-8\")"
   ]
  },
  {
   "cell_type": "code",
   "execution_count": 4,
   "id": "8dc0d453",
   "metadata": {},
   "outputs": [
    {
     "name": "stdout",
     "output_type": "stream",
     "text": [
      "<class 'pandas.core.frame.DataFrame'>\n",
      "RangeIndex: 40319 entries, 0 to 40318\n",
      "Data columns (total 12 columns):\n",
      " #   Column               Non-Null Count  Dtype \n",
      "---  ------               --------------  ----- \n",
      " 0   ID                   40319 non-null  int64 \n",
      " 1   MsgID                40319 non-null  int64 \n",
      " 2   FechaMensaje         40319 non-null  object\n",
      " 3   ReqID                40319 non-null  int64 \n",
      " 4   SgID                 40319 non-null  int64 \n",
      " 5   Maquina              40319 non-null  object\n",
      " 6   SGVer                40319 non-null  object\n",
      " 7   ConexionTipoID       40319 non-null  int64 \n",
      " 8   MensajeTipoID        40319 non-null  int64 \n",
      " 9   Mensaje              40319 non-null  object\n",
      " 10  FechaModificacion    40319 non-null  object\n",
      " 11  UsuarioModificacion  40319 non-null  object\n",
      "dtypes: int64(6), object(6)\n",
      "memory usage: 3.7+ MB\n"
     ]
    }
   ],
   "source": [
    "df.info()"
   ]
  }
 ],
 "metadata": {
  "kernelspec": {
   "display_name": "servimatic-py3.14",
   "language": "python",
   "name": "python3"
  },
  "language_info": {
   "codemirror_mode": {
    "name": "ipython",
    "version": 3
   },
   "file_extension": ".py",
   "mimetype": "text/x-python",
   "name": "python",
   "nbconvert_exporter": "python",
   "pygments_lexer": "ipython3",
   "version": "3.14.0"
  }
 },
 "nbformat": 4,
 "nbformat_minor": 5
}
