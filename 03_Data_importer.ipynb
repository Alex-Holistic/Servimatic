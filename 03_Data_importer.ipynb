{
 "cells": [
  {
   "cell_type": "code",
   "execution_count": 2,
   "id": "a114923e",
   "metadata": {},
   "outputs": [
    {
     "name": "stdout",
     "output_type": "stream",
     "text": [
      "Current working directory: c:\\Users\\AlexMalo\\Desktop\\Servimatic\\servimatic\\Servimatic\n"
     ]
    }
   ],
   "source": [
    "import os\n",
    "import csv\n",
    "import glob\n",
    "import json\n",
    "import pandas as pd\n",
    "from tqdm import tqdm\n",
    "from pprint import pprint\n",
    "\n",
    "from collections import defaultdict\n",
    "from utilities import clean_csv_raw_Mensajes, split_csv_by_machine_buffered\n",
    "\n",
    "# print current os location\n",
    "print(\"Current working directory:\", os.getcwd())"
   ]
  },
  {
   "cell_type": "markdown",
   "id": "79707f34",
   "metadata": {},
   "source": [
    "### 0. Recarregar fitxer utilities (en cas de canvi)"
   ]
  },
  {
   "cell_type": "code",
   "execution_count": 1,
   "id": "379fcaab",
   "metadata": {},
   "outputs": [],
   "source": [
    "import importlib\n",
    "import utilities\n",
    "importlib.reload(utilities) # per actualitzar al nou fitxer\n",
    "from utilities import clean_csv_raw_Mensajes, split_csv_by_machine_buffered"
   ]
  },
  {
   "cell_type": "markdown",
   "id": "9126bf66",
   "metadata": {},
   "source": [
    "### 1. Preprocessing\n",
    "- Afegeix header\n",
    "- Canvia el separador de ';' a ','\n",
    "- Sobreescriu el fitxer\n",
    "- Retorna el path del fitxer a on l'ha guardat (l'utilitzarem a posteriori)"
   ]
  },
  {
   "cell_type": "markdown",
   "id": "170551b0",
   "metadata": {},
   "source": [
    "Aprox triga 1 min per 3 dies de data (562734 files )"
   ]
  },
  {
   "cell_type": "code",
   "execution_count": null,
   "id": "8d14064a",
   "metadata": {},
   "outputs": [],
   "source": [
    "path = clean_csv_raw_Mensajes(8)"
   ]
  },
  {
   "cell_type": "markdown",
   "id": "367d943d",
   "metadata": {},
   "source": [
    "### 2. Separar csv en fitxers de cada màquina"
   ]
  },
  {
   "cell_type": "code",
   "execution_count": 5,
   "id": "ebe180f6",
   "metadata": {},
   "outputs": [
    {
     "name": "stderr",
     "output_type": "stream",
     "text": [
      "Processing rows: 100%|██████████| 306580/306580 [01:04<00:00, 4728.93it/s] \n"
     ]
    },
    {
     "name": "stdout",
     "output_type": "stream",
     "text": [
      "✅ Split completed successfully!\n"
     ]
    }
   ],
   "source": [
    "# path =os.path.join(os.path.dirname(os.getcwd()), 'data','MensajesRAW', 'Mensajes_8.csv')\n",
    "split_csv_by_machine_buffered(path)"
   ]
  },
  {
   "cell_type": "markdown",
   "id": "d2a6da10",
   "metadata": {},
   "source": [
    "# 2. Preprocessing de fitxers descarregats de sql"
   ]
  },
  {
   "cell_type": "code",
   "execution_count": 9,
   "id": "2486fa40",
   "metadata": {},
   "outputs": [
    {
     "name": "stdout",
     "output_type": "stream",
     "text": [
      "Saved cleaned csv to c:\\Users\\AlexMalo\\Desktop\\Servimatic\\servimatic\\data\\LlamadasTecnicas.csv\n"
     ]
    }
   ],
   "source": [
    "# CODGRUP,FECHA,TIPOQUIEN,QUIEN,CODBAR,CODZONATECNI,CODEMPLE,MAQUINA,CODMOD,CODMOTIVO,CODMODU,ENVIADO,FECHAENVIADO,FECHAENTRADA,FECHARESUELTO,OBSEREMPLE,OBSER,CONTESTADOR,USRULTCAMREG,FECULTCAMREG,TIMESTAMP,NUMERO,ID\n",
    "# convert the names above to a list\n",
    "columns = ['CODGRUP','FECHA','TIPOQUIEN','QUIEN','CODBAR','CODZONATECNI','CODEMPLE','MAQUINA','CODMOD','CODMOTIVO','CODMODU','ENVIADO','FECHAENVIADO','FECHAENTRADA','FECHARESUELTO','OBSEREMPLE','OBSER','CONTESTADOR','USRULTCAMREG','FECULTCAMREG','TIMESTAMP','NUMERO','ID']\n",
    "\n",
    "path= os.path.join(os.path.dirname(os.getcwd()), 'data','LlamadasTecnicas.csv')\n",
    "df = pd.read_csv(path, sep=';', names = columns, header=None)\n",
    "# df['FECHA'] = df['FECHA'].str.replace(r'\\.\\d{3}$', '', regex=True)\n",
    "\n",
    "df.to_csv(path, index=False)\n",
    "print(f\"Saved cleaned csv to {path}\")"
   ]
  }
 ],
 "metadata": {
  "kernelspec": {
   "display_name": "servimatic-py3.14",
   "language": "python",
   "name": "python3"
  },
  "language_info": {
   "codemirror_mode": {
    "name": "ipython",
    "version": 3
   },
   "file_extension": ".py",
   "mimetype": "text/x-python",
   "name": "python",
   "nbconvert_exporter": "python",
   "pygments_lexer": "ipython3",
   "version": "3.14.0"
  }
 },
 "nbformat": 4,
 "nbformat_minor": 5
}
